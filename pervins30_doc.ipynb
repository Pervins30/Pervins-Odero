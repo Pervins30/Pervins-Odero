{
  "nbformat": 4,
  "nbformat_minor": 0,
  "metadata": {
    "colab": {
      "provenance": [],
      "authorship_tag": "ABX9TyM1fRs87U+XiPxqzFKKGmR3",
      "include_colab_link": true
    },
    "kernelspec": {
      "name": "python3",
      "display_name": "Python 3"
    },
    "language_info": {
      "name": "python"
    }
  },
  "cells": [
    {
      "cell_type": "markdown",
      "metadata": {
        "id": "view-in-github",
        "colab_type": "text"
      },
      "source": [
        "<a href=\"https://colab.research.google.com/github/Pervins30/Pervins-Odero/blob/main/pervins30_doc.ipynb\" target=\"_parent\"><img src=\"https://colab.research.google.com/assets/colab-badge.svg\" alt=\"Open In Colab\"/></a>"
      ]
    },
    {
      "cell_type": "code",
      "execution_count": null,
      "metadata": {
        "id": "WLRswsaw-K-5"
      },
      "outputs": [],
      "source": [
        "from google.colab import files"
      ]
    },
    {
      "cell_type": "code",
      "source": [
        "import pandas as pd\n",
        "import matplotlib.pyplot as plt\n",
        "import numpy as np\n",
        "data=pd.read_csv(\"/content/train.csv\")\n",
        "print(data)\n"
      ],
      "metadata": {
        "colab": {
          "base_uri": "https://localhost:8080/"
        },
        "id": "GGhqMgYHBMr1",
        "outputId": "b70bb049-aaaf-4ab5-9cb6-8bae6b9dcb33"
      },
      "execution_count": null,
      "outputs": [
        {
          "output_type": "stream",
          "name": "stdout",
          "text": [
            "      POSTED_BY  UNDER_CONSTRUCTION  RERA  BHK_NO. BHK_OR_RK    SQUARE_FT  \\\n",
            "0         Owner                   0     0        2       BHK  1300.236407   \n",
            "1        Dealer                   0     0        2       BHK  1275.000000   \n",
            "2         Owner                   0     0        2       BHK   933.159722   \n",
            "3         Owner                   0     1        2       BHK   929.921143   \n",
            "4        Dealer                   1     0        2       BHK   999.009247   \n",
            "...         ...                 ...   ...      ...       ...          ...   \n",
            "29446     Owner                   0     0        3       BHK  2500.000000   \n",
            "29447     Owner                   0     0        2       BHK   769.230769   \n",
            "29448    Dealer                   0     0        2       BHK  1022.641509   \n",
            "29449     Owner                   0     0        2       BHK   927.079009   \n",
            "29450    Dealer                   0     1        2       BHK   896.774194   \n",
            "\n",
            "       READY_TO_MOVE  RESALE                            ADDRESS  LONGITUDE  \\\n",
            "0                  1       1              Ksfc Layout,Bangalore  12.969910   \n",
            "1                  1       1          Vishweshwara Nagar,Mysore  12.274538   \n",
            "2                  1       1                   Jigani,Bangalore  12.778033   \n",
            "3                  1       1        Sector-1 Vaishali,Ghaziabad  28.642300   \n",
            "4                  0       1                   New Town,Kolkata  22.592200   \n",
            "...              ...     ...                                ...        ...   \n",
            "29446              1       1               Shamshabad Road,Agra  27.140626   \n",
            "29447              1       1  E3-108, Lake View Recidency,,Vapi  39.945409   \n",
            "29448              1       1                  Ajmer Road,Jaipur  26.928785   \n",
            "29449              1       1             Sholinganallur,Chennai  12.900150   \n",
            "29450              1       1                   Jagatpura,Jaipur  26.832353   \n",
            "\n",
            "        LATITUDE  TARGET(PRICE_IN_LACS)  \n",
            "0      77.597960                   55.0  \n",
            "1      76.644605                   51.0  \n",
            "2      77.632191                   43.0  \n",
            "3      77.344500                   62.5  \n",
            "4      88.484911                   60.5  \n",
            "...          ...                    ...  \n",
            "29446  78.043277                   45.0  \n",
            "29447 -86.150721                   16.0  \n",
            "29448  75.828002                   27.1  \n",
            "29449  80.227910                   67.0  \n",
            "29450  75.841749                   27.8  \n",
            "\n",
            "[29451 rows x 12 columns]\n"
          ]
        }
      ]
    },
    {
      "cell_type": "code",
      "source": [
        "data.shape"
      ],
      "metadata": {
        "colab": {
          "base_uri": "https://localhost:8080/"
        },
        "id": "1WKI432uB5ZI",
        "outputId": "fee469cc-79bd-4ea6-f70c-8c89715c6852"
      },
      "execution_count": null,
      "outputs": [
        {
          "output_type": "execute_result",
          "data": {
            "text/plain": [
              "(29451, 12)"
            ]
          },
          "metadata": {},
          "execution_count": 24
        }
      ]
    },
    {
      "cell_type": "code",
      "source": [
        "data.head"
      ],
      "metadata": {
        "colab": {
          "base_uri": "https://localhost:8080/"
        },
        "id": "DeMhqPdrCNrx",
        "outputId": "1a4119bd-20db-42c8-a025-756330a05229"
      },
      "execution_count": null,
      "outputs": [
        {
          "output_type": "execute_result",
          "data": {
            "text/plain": [
              "<bound method NDFrame.head of       POSTED_BY  UNDER_CONSTRUCTION  RERA  BHK_NO. BHK_OR_RK    SQUARE_FT  \\\n",
              "0         Owner                   0     0        2       BHK  1300.236407   \n",
              "1        Dealer                   0     0        2       BHK  1275.000000   \n",
              "2         Owner                   0     0        2       BHK   933.159722   \n",
              "3         Owner                   0     1        2       BHK   929.921143   \n",
              "4        Dealer                   1     0        2       BHK   999.009247   \n",
              "...         ...                 ...   ...      ...       ...          ...   \n",
              "29446     Owner                   0     0        3       BHK  2500.000000   \n",
              "29447     Owner                   0     0        2       BHK   769.230769   \n",
              "29448    Dealer                   0     0        2       BHK  1022.641509   \n",
              "29449     Owner                   0     0        2       BHK   927.079009   \n",
              "29450    Dealer                   0     1        2       BHK   896.774194   \n",
              "\n",
              "       READY_TO_MOVE  RESALE                            ADDRESS  LONGITUDE  \\\n",
              "0                  1       1              Ksfc Layout,Bangalore  12.969910   \n",
              "1                  1       1          Vishweshwara Nagar,Mysore  12.274538   \n",
              "2                  1       1                   Jigani,Bangalore  12.778033   \n",
              "3                  1       1        Sector-1 Vaishali,Ghaziabad  28.642300   \n",
              "4                  0       1                   New Town,Kolkata  22.592200   \n",
              "...              ...     ...                                ...        ...   \n",
              "29446              1       1               Shamshabad Road,Agra  27.140626   \n",
              "29447              1       1  E3-108, Lake View Recidency,,Vapi  39.945409   \n",
              "29448              1       1                  Ajmer Road,Jaipur  26.928785   \n",
              "29449              1       1             Sholinganallur,Chennai  12.900150   \n",
              "29450              1       1                   Jagatpura,Jaipur  26.832353   \n",
              "\n",
              "        LATITUDE  TARGET(PRICE_IN_LACS)  \n",
              "0      77.597960                   55.0  \n",
              "1      76.644605                   51.0  \n",
              "2      77.632191                   43.0  \n",
              "3      77.344500                   62.5  \n",
              "4      88.484911                   60.5  \n",
              "...          ...                    ...  \n",
              "29446  78.043277                   45.0  \n",
              "29447 -86.150721                   16.0  \n",
              "29448  75.828002                   27.1  \n",
              "29449  80.227910                   67.0  \n",
              "29450  75.841749                   27.8  \n",
              "\n",
              "[29451 rows x 12 columns]>"
            ]
          },
          "metadata": {},
          "execution_count": 25
        }
      ]
    },
    {
      "cell_type": "code",
      "source": [
        "data.tail()"
      ],
      "metadata": {
        "colab": {
          "base_uri": "https://localhost:8080/",
          "height": 305
        },
        "id": "_EBKJT4JCTns",
        "outputId": "0f661ff3-0da1-40f9-8d70-a2acfd86c53d"
      },
      "execution_count": null,
      "outputs": [
        {
          "output_type": "execute_result",
          "data": {
            "text/plain": [
              "      POSTED_BY  UNDER_CONSTRUCTION  RERA  BHK_NO. BHK_OR_RK    SQUARE_FT  \\\n",
              "29446     Owner                   0     0        3       BHK  2500.000000   \n",
              "29447     Owner                   0     0        2       BHK   769.230769   \n",
              "29448    Dealer                   0     0        2       BHK  1022.641509   \n",
              "29449     Owner                   0     0        2       BHK   927.079009   \n",
              "29450    Dealer                   0     1        2       BHK   896.774194   \n",
              "\n",
              "       READY_TO_MOVE  RESALE                            ADDRESS  LONGITUDE  \\\n",
              "29446              1       1               Shamshabad Road,Agra  27.140626   \n",
              "29447              1       1  E3-108, Lake View Recidency,,Vapi  39.945409   \n",
              "29448              1       1                  Ajmer Road,Jaipur  26.928785   \n",
              "29449              1       1             Sholinganallur,Chennai  12.900150   \n",
              "29450              1       1                   Jagatpura,Jaipur  26.832353   \n",
              "\n",
              "        LATITUDE  TARGET(PRICE_IN_LACS)  \n",
              "29446  78.043277                   45.0  \n",
              "29447 -86.150721                   16.0  \n",
              "29448  75.828002                   27.1  \n",
              "29449  80.227910                   67.0  \n",
              "29450  75.841749                   27.8  "
            ],
            "text/html": [
              "\n",
              "  <div id=\"df-7d68c265-d5e4-4908-a299-903978071eaf\">\n",
              "    <div class=\"colab-df-container\">\n",
              "      <div>\n",
              "<style scoped>\n",
              "    .dataframe tbody tr th:only-of-type {\n",
              "        vertical-align: middle;\n",
              "    }\n",
              "\n",
              "    .dataframe tbody tr th {\n",
              "        vertical-align: top;\n",
              "    }\n",
              "\n",
              "    .dataframe thead th {\n",
              "        text-align: right;\n",
              "    }\n",
              "</style>\n",
              "<table border=\"1\" class=\"dataframe\">\n",
              "  <thead>\n",
              "    <tr style=\"text-align: right;\">\n",
              "      <th></th>\n",
              "      <th>POSTED_BY</th>\n",
              "      <th>UNDER_CONSTRUCTION</th>\n",
              "      <th>RERA</th>\n",
              "      <th>BHK_NO.</th>\n",
              "      <th>BHK_OR_RK</th>\n",
              "      <th>SQUARE_FT</th>\n",
              "      <th>READY_TO_MOVE</th>\n",
              "      <th>RESALE</th>\n",
              "      <th>ADDRESS</th>\n",
              "      <th>LONGITUDE</th>\n",
              "      <th>LATITUDE</th>\n",
              "      <th>TARGET(PRICE_IN_LACS)</th>\n",
              "    </tr>\n",
              "  </thead>\n",
              "  <tbody>\n",
              "    <tr>\n",
              "      <th>29446</th>\n",
              "      <td>Owner</td>\n",
              "      <td>0</td>\n",
              "      <td>0</td>\n",
              "      <td>3</td>\n",
              "      <td>BHK</td>\n",
              "      <td>2500.000000</td>\n",
              "      <td>1</td>\n",
              "      <td>1</td>\n",
              "      <td>Shamshabad Road,Agra</td>\n",
              "      <td>27.140626</td>\n",
              "      <td>78.043277</td>\n",
              "      <td>45.0</td>\n",
              "    </tr>\n",
              "    <tr>\n",
              "      <th>29447</th>\n",
              "      <td>Owner</td>\n",
              "      <td>0</td>\n",
              "      <td>0</td>\n",
              "      <td>2</td>\n",
              "      <td>BHK</td>\n",
              "      <td>769.230769</td>\n",
              "      <td>1</td>\n",
              "      <td>1</td>\n",
              "      <td>E3-108, Lake View Recidency,,Vapi</td>\n",
              "      <td>39.945409</td>\n",
              "      <td>-86.150721</td>\n",
              "      <td>16.0</td>\n",
              "    </tr>\n",
              "    <tr>\n",
              "      <th>29448</th>\n",
              "      <td>Dealer</td>\n",
              "      <td>0</td>\n",
              "      <td>0</td>\n",
              "      <td>2</td>\n",
              "      <td>BHK</td>\n",
              "      <td>1022.641509</td>\n",
              "      <td>1</td>\n",
              "      <td>1</td>\n",
              "      <td>Ajmer Road,Jaipur</td>\n",
              "      <td>26.928785</td>\n",
              "      <td>75.828002</td>\n",
              "      <td>27.1</td>\n",
              "    </tr>\n",
              "    <tr>\n",
              "      <th>29449</th>\n",
              "      <td>Owner</td>\n",
              "      <td>0</td>\n",
              "      <td>0</td>\n",
              "      <td>2</td>\n",
              "      <td>BHK</td>\n",
              "      <td>927.079009</td>\n",
              "      <td>1</td>\n",
              "      <td>1</td>\n",
              "      <td>Sholinganallur,Chennai</td>\n",
              "      <td>12.900150</td>\n",
              "      <td>80.227910</td>\n",
              "      <td>67.0</td>\n",
              "    </tr>\n",
              "    <tr>\n",
              "      <th>29450</th>\n",
              "      <td>Dealer</td>\n",
              "      <td>0</td>\n",
              "      <td>1</td>\n",
              "      <td>2</td>\n",
              "      <td>BHK</td>\n",
              "      <td>896.774194</td>\n",
              "      <td>1</td>\n",
              "      <td>1</td>\n",
              "      <td>Jagatpura,Jaipur</td>\n",
              "      <td>26.832353</td>\n",
              "      <td>75.841749</td>\n",
              "      <td>27.8</td>\n",
              "    </tr>\n",
              "  </tbody>\n",
              "</table>\n",
              "</div>\n",
              "      <button class=\"colab-df-convert\" onclick=\"convertToInteractive('df-7d68c265-d5e4-4908-a299-903978071eaf')\"\n",
              "              title=\"Convert this dataframe to an interactive table.\"\n",
              "              style=\"display:none;\">\n",
              "        \n",
              "  <svg xmlns=\"http://www.w3.org/2000/svg\" height=\"24px\"viewBox=\"0 0 24 24\"\n",
              "       width=\"24px\">\n",
              "    <path d=\"M0 0h24v24H0V0z\" fill=\"none\"/>\n",
              "    <path d=\"M18.56 5.44l.94 2.06.94-2.06 2.06-.94-2.06-.94-.94-2.06-.94 2.06-2.06.94zm-11 1L8.5 8.5l.94-2.06 2.06-.94-2.06-.94L8.5 2.5l-.94 2.06-2.06.94zm10 10l.94 2.06.94-2.06 2.06-.94-2.06-.94-.94-2.06-.94 2.06-2.06.94z\"/><path d=\"M17.41 7.96l-1.37-1.37c-.4-.4-.92-.59-1.43-.59-.52 0-1.04.2-1.43.59L10.3 9.45l-7.72 7.72c-.78.78-.78 2.05 0 2.83L4 21.41c.39.39.9.59 1.41.59.51 0 1.02-.2 1.41-.59l7.78-7.78 2.81-2.81c.8-.78.8-2.07 0-2.86zM5.41 20L4 18.59l7.72-7.72 1.47 1.35L5.41 20z\"/>\n",
              "  </svg>\n",
              "      </button>\n",
              "      \n",
              "  <style>\n",
              "    .colab-df-container {\n",
              "      display:flex;\n",
              "      flex-wrap:wrap;\n",
              "      gap: 12px;\n",
              "    }\n",
              "\n",
              "    .colab-df-convert {\n",
              "      background-color: #E8F0FE;\n",
              "      border: none;\n",
              "      border-radius: 50%;\n",
              "      cursor: pointer;\n",
              "      display: none;\n",
              "      fill: #1967D2;\n",
              "      height: 32px;\n",
              "      padding: 0 0 0 0;\n",
              "      width: 32px;\n",
              "    }\n",
              "\n",
              "    .colab-df-convert:hover {\n",
              "      background-color: #E2EBFA;\n",
              "      box-shadow: 0px 1px 2px rgba(60, 64, 67, 0.3), 0px 1px 3px 1px rgba(60, 64, 67, 0.15);\n",
              "      fill: #174EA6;\n",
              "    }\n",
              "\n",
              "    [theme=dark] .colab-df-convert {\n",
              "      background-color: #3B4455;\n",
              "      fill: #D2E3FC;\n",
              "    }\n",
              "\n",
              "    [theme=dark] .colab-df-convert:hover {\n",
              "      background-color: #434B5C;\n",
              "      box-shadow: 0px 1px 3px 1px rgba(0, 0, 0, 0.15);\n",
              "      filter: drop-shadow(0px 1px 2px rgba(0, 0, 0, 0.3));\n",
              "      fill: #FFFFFF;\n",
              "    }\n",
              "  </style>\n",
              "\n",
              "      <script>\n",
              "        const buttonEl =\n",
              "          document.querySelector('#df-7d68c265-d5e4-4908-a299-903978071eaf button.colab-df-convert');\n",
              "        buttonEl.style.display =\n",
              "          google.colab.kernel.accessAllowed ? 'block' : 'none';\n",
              "\n",
              "        async function convertToInteractive(key) {\n",
              "          const element = document.querySelector('#df-7d68c265-d5e4-4908-a299-903978071eaf');\n",
              "          const dataTable =\n",
              "            await google.colab.kernel.invokeFunction('convertToInteractive',\n",
              "                                                     [key], {});\n",
              "          if (!dataTable) return;\n",
              "\n",
              "          const docLinkHtml = 'Like what you see? Visit the ' +\n",
              "            '<a target=\"_blank\" href=https://colab.research.google.com/notebooks/data_table.ipynb>data table notebook</a>'\n",
              "            + ' to learn more about interactive tables.';\n",
              "          element.innerHTML = '';\n",
              "          dataTable['output_type'] = 'display_data';\n",
              "          await google.colab.output.renderOutput(dataTable, element);\n",
              "          const docLink = document.createElement('div');\n",
              "          docLink.innerHTML = docLinkHtml;\n",
              "          element.appendChild(docLink);\n",
              "        }\n",
              "      </script>\n",
              "    </div>\n",
              "  </div>\n",
              "  "
            ]
          },
          "metadata": {},
          "execution_count": 26
        }
      ]
    },
    {
      "cell_type": "code",
      "source": [
        "data.corr()"
      ],
      "metadata": {
        "colab": {
          "base_uri": "https://localhost:8080/",
          "height": 430
        },
        "id": "RpgcjkSuCeYu",
        "outputId": "5faf2656-3176-4891-ae57-280aba93639d"
      },
      "execution_count": null,
      "outputs": [
        {
          "output_type": "stream",
          "name": "stderr",
          "text": [
            "<ipython-input-27-c44ded798807>:1: FutureWarning: The default value of numeric_only in DataFrame.corr is deprecated. In a future version, it will default to False. Select only valid columns or specify the value of numeric_only to silence this warning.\n",
            "  data.corr()\n"
          ]
        },
        {
          "output_type": "execute_result",
          "data": {
            "text/plain": [
              "                       UNDER_CONSTRUCTION      RERA   BHK_NO.  SQUARE_FT  \\\n",
              "UNDER_CONSTRUCTION               1.000000  0.363826 -0.040712  -0.004204   \n",
              "RERA                             0.363826  1.000000  0.009547  -0.006229   \n",
              "BHK_NO.                         -0.040712  0.009547  1.000000   0.005303   \n",
              "SQUARE_FT                       -0.004204 -0.006229  0.005303   1.000000   \n",
              "READY_TO_MOVE                   -1.000000 -0.363826  0.040712   0.004204   \n",
              "RESALE                          -0.347405 -0.270351  0.014581   0.001732   \n",
              "LONGITUDE                        0.006440  0.104976  0.068730  -0.012591   \n",
              "LATITUDE                        -0.000381 -0.065106  0.046930   0.000803   \n",
              "TARGET(PRICE_IN_LACS)            0.055399  0.067636  0.112283   0.402685   \n",
              "\n",
              "                       READY_TO_MOVE    RESALE  LONGITUDE  LATITUDE  \\\n",
              "UNDER_CONSTRUCTION         -1.000000 -0.347405   0.006440 -0.000381   \n",
              "RERA                       -0.363826 -0.270351   0.104976 -0.065106   \n",
              "BHK_NO.                     0.040712  0.014581   0.068730  0.046930   \n",
              "SQUARE_FT                   0.004204  0.001732  -0.012591  0.000803   \n",
              "READY_TO_MOVE               1.000000  0.347405  -0.006440  0.000381   \n",
              "RESALE                      0.347405  1.000000   0.024038  0.014844   \n",
              "LONGITUDE                  -0.006440  0.024038   1.000000 -0.155062   \n",
              "LATITUDE                    0.000381  0.014844  -0.155062  1.000000   \n",
              "TARGET(PRICE_IN_LACS)      -0.055399 -0.207378  -0.031112 -0.017254   \n",
              "\n",
              "                       TARGET(PRICE_IN_LACS)  \n",
              "UNDER_CONSTRUCTION                  0.055399  \n",
              "RERA                                0.067636  \n",
              "BHK_NO.                             0.112283  \n",
              "SQUARE_FT                           0.402685  \n",
              "READY_TO_MOVE                      -0.055399  \n",
              "RESALE                             -0.207378  \n",
              "LONGITUDE                          -0.031112  \n",
              "LATITUDE                           -0.017254  \n",
              "TARGET(PRICE_IN_LACS)               1.000000  "
            ],
            "text/html": [
              "\n",
              "  <div id=\"df-3a7990f4-c293-43b8-bfc9-24d54e87700a\">\n",
              "    <div class=\"colab-df-container\">\n",
              "      <div>\n",
              "<style scoped>\n",
              "    .dataframe tbody tr th:only-of-type {\n",
              "        vertical-align: middle;\n",
              "    }\n",
              "\n",
              "    .dataframe tbody tr th {\n",
              "        vertical-align: top;\n",
              "    }\n",
              "\n",
              "    .dataframe thead th {\n",
              "        text-align: right;\n",
              "    }\n",
              "</style>\n",
              "<table border=\"1\" class=\"dataframe\">\n",
              "  <thead>\n",
              "    <tr style=\"text-align: right;\">\n",
              "      <th></th>\n",
              "      <th>UNDER_CONSTRUCTION</th>\n",
              "      <th>RERA</th>\n",
              "      <th>BHK_NO.</th>\n",
              "      <th>SQUARE_FT</th>\n",
              "      <th>READY_TO_MOVE</th>\n",
              "      <th>RESALE</th>\n",
              "      <th>LONGITUDE</th>\n",
              "      <th>LATITUDE</th>\n",
              "      <th>TARGET(PRICE_IN_LACS)</th>\n",
              "    </tr>\n",
              "  </thead>\n",
              "  <tbody>\n",
              "    <tr>\n",
              "      <th>UNDER_CONSTRUCTION</th>\n",
              "      <td>1.000000</td>\n",
              "      <td>0.363826</td>\n",
              "      <td>-0.040712</td>\n",
              "      <td>-0.004204</td>\n",
              "      <td>-1.000000</td>\n",
              "      <td>-0.347405</td>\n",
              "      <td>0.006440</td>\n",
              "      <td>-0.000381</td>\n",
              "      <td>0.055399</td>\n",
              "    </tr>\n",
              "    <tr>\n",
              "      <th>RERA</th>\n",
              "      <td>0.363826</td>\n",
              "      <td>1.000000</td>\n",
              "      <td>0.009547</td>\n",
              "      <td>-0.006229</td>\n",
              "      <td>-0.363826</td>\n",
              "      <td>-0.270351</td>\n",
              "      <td>0.104976</td>\n",
              "      <td>-0.065106</td>\n",
              "      <td>0.067636</td>\n",
              "    </tr>\n",
              "    <tr>\n",
              "      <th>BHK_NO.</th>\n",
              "      <td>-0.040712</td>\n",
              "      <td>0.009547</td>\n",
              "      <td>1.000000</td>\n",
              "      <td>0.005303</td>\n",
              "      <td>0.040712</td>\n",
              "      <td>0.014581</td>\n",
              "      <td>0.068730</td>\n",
              "      <td>0.046930</td>\n",
              "      <td>0.112283</td>\n",
              "    </tr>\n",
              "    <tr>\n",
              "      <th>SQUARE_FT</th>\n",
              "      <td>-0.004204</td>\n",
              "      <td>-0.006229</td>\n",
              "      <td>0.005303</td>\n",
              "      <td>1.000000</td>\n",
              "      <td>0.004204</td>\n",
              "      <td>0.001732</td>\n",
              "      <td>-0.012591</td>\n",
              "      <td>0.000803</td>\n",
              "      <td>0.402685</td>\n",
              "    </tr>\n",
              "    <tr>\n",
              "      <th>READY_TO_MOVE</th>\n",
              "      <td>-1.000000</td>\n",
              "      <td>-0.363826</td>\n",
              "      <td>0.040712</td>\n",
              "      <td>0.004204</td>\n",
              "      <td>1.000000</td>\n",
              "      <td>0.347405</td>\n",
              "      <td>-0.006440</td>\n",
              "      <td>0.000381</td>\n",
              "      <td>-0.055399</td>\n",
              "    </tr>\n",
              "    <tr>\n",
              "      <th>RESALE</th>\n",
              "      <td>-0.347405</td>\n",
              "      <td>-0.270351</td>\n",
              "      <td>0.014581</td>\n",
              "      <td>0.001732</td>\n",
              "      <td>0.347405</td>\n",
              "      <td>1.000000</td>\n",
              "      <td>0.024038</td>\n",
              "      <td>0.014844</td>\n",
              "      <td>-0.207378</td>\n",
              "    </tr>\n",
              "    <tr>\n",
              "      <th>LONGITUDE</th>\n",
              "      <td>0.006440</td>\n",
              "      <td>0.104976</td>\n",
              "      <td>0.068730</td>\n",
              "      <td>-0.012591</td>\n",
              "      <td>-0.006440</td>\n",
              "      <td>0.024038</td>\n",
              "      <td>1.000000</td>\n",
              "      <td>-0.155062</td>\n",
              "      <td>-0.031112</td>\n",
              "    </tr>\n",
              "    <tr>\n",
              "      <th>LATITUDE</th>\n",
              "      <td>-0.000381</td>\n",
              "      <td>-0.065106</td>\n",
              "      <td>0.046930</td>\n",
              "      <td>0.000803</td>\n",
              "      <td>0.000381</td>\n",
              "      <td>0.014844</td>\n",
              "      <td>-0.155062</td>\n",
              "      <td>1.000000</td>\n",
              "      <td>-0.017254</td>\n",
              "    </tr>\n",
              "    <tr>\n",
              "      <th>TARGET(PRICE_IN_LACS)</th>\n",
              "      <td>0.055399</td>\n",
              "      <td>0.067636</td>\n",
              "      <td>0.112283</td>\n",
              "      <td>0.402685</td>\n",
              "      <td>-0.055399</td>\n",
              "      <td>-0.207378</td>\n",
              "      <td>-0.031112</td>\n",
              "      <td>-0.017254</td>\n",
              "      <td>1.000000</td>\n",
              "    </tr>\n",
              "  </tbody>\n",
              "</table>\n",
              "</div>\n",
              "      <button class=\"colab-df-convert\" onclick=\"convertToInteractive('df-3a7990f4-c293-43b8-bfc9-24d54e87700a')\"\n",
              "              title=\"Convert this dataframe to an interactive table.\"\n",
              "              style=\"display:none;\">\n",
              "        \n",
              "  <svg xmlns=\"http://www.w3.org/2000/svg\" height=\"24px\"viewBox=\"0 0 24 24\"\n",
              "       width=\"24px\">\n",
              "    <path d=\"M0 0h24v24H0V0z\" fill=\"none\"/>\n",
              "    <path d=\"M18.56 5.44l.94 2.06.94-2.06 2.06-.94-2.06-.94-.94-2.06-.94 2.06-2.06.94zm-11 1L8.5 8.5l.94-2.06 2.06-.94-2.06-.94L8.5 2.5l-.94 2.06-2.06.94zm10 10l.94 2.06.94-2.06 2.06-.94-2.06-.94-.94-2.06-.94 2.06-2.06.94z\"/><path d=\"M17.41 7.96l-1.37-1.37c-.4-.4-.92-.59-1.43-.59-.52 0-1.04.2-1.43.59L10.3 9.45l-7.72 7.72c-.78.78-.78 2.05 0 2.83L4 21.41c.39.39.9.59 1.41.59.51 0 1.02-.2 1.41-.59l7.78-7.78 2.81-2.81c.8-.78.8-2.07 0-2.86zM5.41 20L4 18.59l7.72-7.72 1.47 1.35L5.41 20z\"/>\n",
              "  </svg>\n",
              "      </button>\n",
              "      \n",
              "  <style>\n",
              "    .colab-df-container {\n",
              "      display:flex;\n",
              "      flex-wrap:wrap;\n",
              "      gap: 12px;\n",
              "    }\n",
              "\n",
              "    .colab-df-convert {\n",
              "      background-color: #E8F0FE;\n",
              "      border: none;\n",
              "      border-radius: 50%;\n",
              "      cursor: pointer;\n",
              "      display: none;\n",
              "      fill: #1967D2;\n",
              "      height: 32px;\n",
              "      padding: 0 0 0 0;\n",
              "      width: 32px;\n",
              "    }\n",
              "\n",
              "    .colab-df-convert:hover {\n",
              "      background-color: #E2EBFA;\n",
              "      box-shadow: 0px 1px 2px rgba(60, 64, 67, 0.3), 0px 1px 3px 1px rgba(60, 64, 67, 0.15);\n",
              "      fill: #174EA6;\n",
              "    }\n",
              "\n",
              "    [theme=dark] .colab-df-convert {\n",
              "      background-color: #3B4455;\n",
              "      fill: #D2E3FC;\n",
              "    }\n",
              "\n",
              "    [theme=dark] .colab-df-convert:hover {\n",
              "      background-color: #434B5C;\n",
              "      box-shadow: 0px 1px 3px 1px rgba(0, 0, 0, 0.15);\n",
              "      filter: drop-shadow(0px 1px 2px rgba(0, 0, 0, 0.3));\n",
              "      fill: #FFFFFF;\n",
              "    }\n",
              "  </style>\n",
              "\n",
              "      <script>\n",
              "        const buttonEl =\n",
              "          document.querySelector('#df-3a7990f4-c293-43b8-bfc9-24d54e87700a button.colab-df-convert');\n",
              "        buttonEl.style.display =\n",
              "          google.colab.kernel.accessAllowed ? 'block' : 'none';\n",
              "\n",
              "        async function convertToInteractive(key) {\n",
              "          const element = document.querySelector('#df-3a7990f4-c293-43b8-bfc9-24d54e87700a');\n",
              "          const dataTable =\n",
              "            await google.colab.kernel.invokeFunction('convertToInteractive',\n",
              "                                                     [key], {});\n",
              "          if (!dataTable) return;\n",
              "\n",
              "          const docLinkHtml = 'Like what you see? Visit the ' +\n",
              "            '<a target=\"_blank\" href=https://colab.research.google.com/notebooks/data_table.ipynb>data table notebook</a>'\n",
              "            + ' to learn more about interactive tables.';\n",
              "          element.innerHTML = '';\n",
              "          dataTable['output_type'] = 'display_data';\n",
              "          await google.colab.output.renderOutput(dataTable, element);\n",
              "          const docLink = document.createElement('div');\n",
              "          docLink.innerHTML = docLinkHtml;\n",
              "          element.appendChild(docLink);\n",
              "        }\n",
              "      </script>\n",
              "    </div>\n",
              "  </div>\n",
              "  "
            ]
          },
          "metadata": {},
          "execution_count": 27
        }
      ]
    },
    {
      "cell_type": "code",
      "source": [
        "data.isnull().sum"
      ],
      "metadata": {
        "colab": {
          "base_uri": "https://localhost:8080/"
        },
        "id": "VU3oxqkHClj0",
        "outputId": "15928f89-527a-4865-bfd3-7f796aa5e50d"
      },
      "execution_count": null,
      "outputs": [
        {
          "output_type": "execute_result",
          "data": {
            "text/plain": [
              "<bound method NDFrame._add_numeric_operations.<locals>.sum of        POSTED_BY  UNDER_CONSTRUCTION   RERA  BHK_NO.  BHK_OR_RK  SQUARE_FT  \\\n",
              "0          False               False  False    False      False      False   \n",
              "1          False               False  False    False      False      False   \n",
              "2          False               False  False    False      False      False   \n",
              "3          False               False  False    False      False      False   \n",
              "4          False               False  False    False      False      False   \n",
              "...          ...                 ...    ...      ...        ...        ...   \n",
              "29446      False               False  False    False      False      False   \n",
              "29447      False               False  False    False      False      False   \n",
              "29448      False               False  False    False      False      False   \n",
              "29449      False               False  False    False      False      False   \n",
              "29450      False               False  False    False      False      False   \n",
              "\n",
              "       READY_TO_MOVE  RESALE  ADDRESS  LONGITUDE  LATITUDE  \\\n",
              "0              False   False    False      False     False   \n",
              "1              False   False    False      False     False   \n",
              "2              False   False    False      False     False   \n",
              "3              False   False    False      False     False   \n",
              "4              False   False    False      False     False   \n",
              "...              ...     ...      ...        ...       ...   \n",
              "29446          False   False    False      False     False   \n",
              "29447          False   False    False      False     False   \n",
              "29448          False   False    False      False     False   \n",
              "29449          False   False    False      False     False   \n",
              "29450          False   False    False      False     False   \n",
              "\n",
              "       TARGET(PRICE_IN_LACS)  \n",
              "0                      False  \n",
              "1                      False  \n",
              "2                      False  \n",
              "3                      False  \n",
              "4                      False  \n",
              "...                      ...  \n",
              "29446                  False  \n",
              "29447                  False  \n",
              "29448                  False  \n",
              "29449                  False  \n",
              "29450                  False  \n",
              "\n",
              "[29451 rows x 12 columns]>"
            ]
          },
          "metadata": {},
          "execution_count": 28
        }
      ]
    },
    {
      "cell_type": "code",
      "source": [
        "print(data.duplicated().sum())"
      ],
      "metadata": {
        "colab": {
          "base_uri": "https://localhost:8080/"
        },
        "id": "tbc1r5sgC0HQ",
        "outputId": "52d311bd-a043-486f-f7bd-f1349038fa7d"
      },
      "execution_count": null,
      "outputs": [
        {
          "output_type": "stream",
          "name": "stdout",
          "text": [
            "401\n"
          ]
        }
      ]
    },
    {
      "cell_type": "code",
      "source": [
        "from ast import increment_lineno\n",
        "import numpy as np\n",
        "import matplotlib.pyplot as plt\n",
        "%matplotlib inline\n",
        "x=np.linspace(0,1,5)\n",
        "y=np.sin(x)\n",
        "plt.scatter(x,y)\n",
        "plt.title(\"Pervins_Apartments\")"
      ],
      "metadata": {
        "colab": {
          "base_uri": "https://localhost:8080/",
          "height": 469
        },
        "id": "pkj0leCEDHSK",
        "outputId": "d4a33837-8bab-4619-d922-7908c5794757"
      },
      "execution_count": null,
      "outputs": [
        {
          "output_type": "execute_result",
          "data": {
            "text/plain": [
              "Text(0.5, 1.0, 'Pervins_Apartments')"
            ]
          },
          "metadata": {},
          "execution_count": 30
        },
        {
          "output_type": "display_data",
          "data": {
            "text/plain": [
              "<Figure size 640x480 with 1 Axes>"
            ],
            "image/png": "[encoded data removed]"
          },
          "metadata": {}
        }
      ]
    },
    {
      "cell_type": "code",
      "source": [
        "plt.hist(y, bins=20, alpha=0.5, label='Actual price')\n",
        "plt.hist(y, bins=20, alpha=0.5, label='Predicted Price')\n",
        "plt.xlabel('price')\n",
        "plt.ylabel('frequency')\n",
        "plt.title('Histogram of Predicted and Actual prices')\n",
        "plt.legend()\n",
        "plt.show()"
      ],
      "metadata": {
        "colab": {
          "base_uri": "https://localhost:8080/",
          "height": 472
        },
        "id": "BuZMpyV_EX24",
        "outputId": "0240cfcf-b30b-4e8c-e353-1972faaf2e5e"
      },
      "execution_count": null,
      "outputs": [
        {
          "output_type": "display_data",
          "data": {
            "text/plain": [
              "<Figure size 640x480 with 1 Axes>"
            ],
            "image/png": "[encoded data removed]"
          },
          "metadata": {}
        }
      ]
    }
  ]
}